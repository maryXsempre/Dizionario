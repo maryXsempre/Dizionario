{
  "cells": [
    {
      "cell_type": "markdown",
      "metadata": {
        "id": "view-in-github",
        "colab_type": "text"
      },
      "source": [
        "<a href=\"https://colab.research.google.com/github/maryXsempre/Dizionario/blob/main/ETL_TOT.ipynb\" target=\"_parent\"><img src=\"https://colab.research.google.com/assets/colab-badge.svg\" alt=\"Open In Colab\"/></a>"
      ]
    },
    {
      "cell_type": "code",
      "execution_count": null,
      "metadata": {
        "colab": {
          "base_uri": "https://localhost:8080/"
        },
        "id": "qDka3F2lkjwq",
        "outputId": "07a7fc02-b6db-49e4-a1bd-eab572230d73"
      },
      "outputs": [
        {
          "output_type": "stream",
          "name": "stdout",
          "text": [
            "Drive already mounted at /content/drive; to attempt to forcibly remount, call drive.mount(\"/content/drive\", force_remount=True).\n"
          ]
        }
      ],
      "source": [
        "from google.colab import drive\n",
        "drive.mount('/content/drive')"
      ]
    },
    {
      "cell_type": "code",
      "execution_count": null,
      "metadata": {
        "colab": {
          "base_uri": "https://localhost:8080/"
        },
        "id": "RHTzxteq3cAB",
        "outputId": "b795f45d-6338-4252-ae19-a6cd802c5855"
      },
      "outputs": [
        {
          "output_type": "stream",
          "name": "stdout",
          "text": [
            "Collecting italian-dictionary\n",
            "  Downloading italian_dictionary-1.5.tar.gz (4.3 kB)\n",
            "Requirement already satisfied: beautifulsoup4 in /usr/local/lib/python3.7/dist-packages (from italian-dictionary) (4.6.3)\n",
            "Building wheels for collected packages: italian-dictionary\n",
            "  Building wheel for italian-dictionary (setup.py) ... \u001b[?25l\u001b[?25hdone\n",
            "  Created wheel for italian-dictionary: filename=italian_dictionary-1.5-py3-none-any.whl size=5184 sha256=789234a87076528b7d8feac36e5f4d793b57fa5f35b2de7d9ba75288506cb410\n",
            "  Stored in directory: /root/.cache/pip/wheels/e3/14/e2/83441161321190ba897614a8bc40fcd6680fa79278e425ada7\n",
            "Successfully built italian-dictionary\n",
            "Installing collected packages: italian-dictionary\n",
            "Successfully installed italian-dictionary-1.5\n"
          ]
        }
      ],
      "source": [
        "!pip install italian-dictionary"
      ]
    },
    {
      "cell_type": "markdown",
      "source": [
        "Github del parser, anche se molto poco documentato. https://github.com/sphoneix22/italian_dictionary"
      ],
      "metadata": {
        "id": "NLKwL0Q71jD9"
      }
    },
    {
      "cell_type": "code",
      "execution_count": null,
      "metadata": {
        "id": "nZZxbdmDnrLc"
      },
      "outputs": [],
      "source": [
        "import italian_dictionary #parser per www.dizionario-italiano.it\n",
        "from tqdm import tqdm\n",
        "import csv\n",
        "from google.colab import files"
      ]
    },
    {
      "cell_type": "code",
      "execution_count": null,
      "metadata": {
        "id": "tc76DcE_1ZQj"
      },
      "outputs": [],
      "source": [
        "alfabeto=['A','B','C','D','E','F','G','H','I','J','K','L','M','N','O','P','Q','R','S','T','U','V','W','X','Y','Z']\n",
        "path='/content/drive/MyDrive/italia-1a/'"
      ]
    },
    {
      "cell_type": "markdown",
      "source": [
        "Codice costosissimo necessario per scaricare i 26 csv che formano il dizionario. Sostanzialmente ogni iterazione si parte da una lettera dell'alfabeto e per ogni lettera dell'alfabeto si accede a una lista di parole prese da http://www.yorku.ca/lbianchi/italian.html (un pazzo che nel 1996 si è messo ad accumulare parole con cirteri che possono essere controllati sul sito).\n",
        "A quel punto si estraggono gli attributi, parsandoli dal sito www.dizionario-italiano.it, molto comodo perchè sono spiegati tutti gli attributi."
      ],
      "metadata": {
        "id": "X_I-QNIV0c_V"
      }
    },
    {
      "cell_type": "code",
      "execution_count": null,
      "metadata": {
        "colab": {
          "base_uri": "https://localhost:8080/"
        },
        "id": "20GBa30-nQVb",
        "outputId": "4d2b1849-3bc5-4d2e-f52f-217716245c2f"
      },
      "outputs": [
        {
          "name": "stdout",
          "output_type": "stream",
          "text": [
            "parsing A...\n"
          ]
        },
        {
          "name": "stderr",
          "output_type": "stream",
          "text": [
            "100%|██████████| 15073/15073 [2:16:26<00:00,  1.84it/s]\n"
          ]
        }
      ],
      "source": [
        "'''\n",
        "lista_di_parole=[]\n",
        "diz_head=['parola','definizione','sillabe','lemma','pronuncia','grammatica','locuzioni','url']\n",
        "\n",
        "\n",
        "for lettera in alfabeto:\n",
        "    print('parsing '+lettera+'...')\n",
        "    with open(path+lettera,newline='') as lista:\n",
        "        data=lista.read().splitlines()\n",
        "        for parola in tqdm(data):\n",
        "          try:\n",
        "            defi = italian_dictionary.get_definition(parola)\n",
        "            defi['parola']=parola\n",
        "            lista_di_parole.append(defi)\n",
        "          except:\n",
        "            pass                \n",
        "    with open(lettera+'_dizionario.csv','w') as file:\n",
        "            writer = csv.DictWriter(file, fieldnames=diz_head)\n",
        "            writer.writeheader()    \n",
        "            writer.writerows(lista_di_parole)\n",
        "    files.download(lettera+'_dizionario.csv')\n",
        "\n",
        "'''"
      ]
    },
    {
      "cell_type": "code",
      "execution_count": null,
      "metadata": {
        "colab": {
          "base_uri": "https://localhost:8080/",
          "height": 17
        },
        "id": "L-SjDoq1H46L",
        "outputId": "7e2c1850-c9f5-4584-9ee0-b65936a342fa"
      },
      "outputs": [
        {
          "output_type": "display_data",
          "data": {
            "application/javascript": [
              "\n",
              "    async function download(id, filename, size) {\n",
              "      if (!google.colab.kernel.accessAllowed) {\n",
              "        return;\n",
              "      }\n",
              "      const div = document.createElement('div');\n",
              "      const label = document.createElement('label');\n",
              "      label.textContent = `Downloading \"${filename}\": `;\n",
              "      div.appendChild(label);\n",
              "      const progress = document.createElement('progress');\n",
              "      progress.max = size;\n",
              "      div.appendChild(progress);\n",
              "      document.body.appendChild(div);\n",
              "\n",
              "      const buffers = [];\n",
              "      let downloaded = 0;\n",
              "\n",
              "      const channel = await google.colab.kernel.comms.open(id);\n",
              "      // Send a message to notify the kernel that we're ready.\n",
              "      channel.send({})\n",
              "\n",
              "      for await (const message of channel.messages) {\n",
              "        // Send a message to notify the kernel that we're ready.\n",
              "        channel.send({})\n",
              "        if (message.buffers) {\n",
              "          for (const buffer of message.buffers) {\n",
              "            buffers.push(buffer);\n",
              "            downloaded += buffer.byteLength;\n",
              "            progress.value = downloaded;\n",
              "          }\n",
              "        }\n",
              "      }\n",
              "      const blob = new Blob(buffers, {type: 'application/binary'});\n",
              "      const a = document.createElement('a');\n",
              "      a.href = window.URL.createObjectURL(blob);\n",
              "      a.download = filename;\n",
              "      div.appendChild(a);\n",
              "      a.click();\n",
              "      div.remove();\n",
              "    }\n",
              "  "
            ],
            "text/plain": [
              "<IPython.core.display.Javascript object>"
            ]
          },
          "metadata": {}
        },
        {
          "output_type": "display_data",
          "data": {
            "application/javascript": [
              "download(\"download_d3fa56af-5718-4876-8bb2-547be8474ae1\", \"full_dizionario.csv\", 33503571)"
            ],
            "text/plain": [
              "<IPython.core.display.Javascript object>"
            ]
          },
          "metadata": {}
        }
      ],
      "source": [
        "import pandas as pd\n",
        "from google.colab import files\n",
        "\n",
        "#combine all files in the list\n",
        "combined_csv = pd.concat([pd.read_csv('/content/drive/MyDrive/Dizionario/'+lettera+'_dizionario.csv') for lettera in alfabeto])\n",
        "combined_csv.to_csv( \"full_dizionario.csv\", index=False, encoding='utf-8-sig')\n",
        "\n",
        "files.download('full_dizionario.csv')"
      ]
    },
    {
      "cell_type": "code",
      "source": [
        "import pandas as pd\n",
        "df=pd.read_csv('/content/drive/MyDrive/Dizionario/full_dizionario.csv')"
      ],
      "metadata": {
        "id": "bIr6cLVDS3Np"
      },
      "execution_count": null,
      "outputs": []
    },
    {
      "cell_type": "code",
      "source": [
        "df.head()"
      ],
      "metadata": {
        "colab": {
          "base_uri": "https://localhost:8080/",
          "height": 250
        },
        "id": "zXGjZ42Z5LFY",
        "outputId": "968598e3-c93e-47bd-dd1e-e8dbc68677e0"
      },
      "execution_count": null,
      "outputs": [
        {
          "output_type": "execute_result",
          "data": {
            "text/html": [
              "\n",
              "  <div id=\"df-0285a719-d752-426c-a072-611b439f41de\">\n",
              "    <div class=\"colab-df-container\">\n",
              "      <div>\n",
              "<style scoped>\n",
              "    .dataframe tbody tr th:only-of-type {\n",
              "        vertical-align: middle;\n",
              "    }\n",
              "\n",
              "    .dataframe tbody tr th {\n",
              "        vertical-align: top;\n",
              "    }\n",
              "\n",
              "    .dataframe thead th {\n",
              "        text-align: right;\n",
              "    }\n",
              "</style>\n",
              "<table border=\"1\" class=\"dataframe\">\n",
              "  <thead>\n",
              "    <tr style=\"text-align: right;\">\n",
              "      <th></th>\n",
              "      <th>parola</th>\n",
              "      <th>definizione</th>\n",
              "      <th>sillabe</th>\n",
              "      <th>lemma</th>\n",
              "      <th>pronuncia</th>\n",
              "      <th>grammatica</th>\n",
              "      <th>locuzioni</th>\n",
              "      <th>url</th>\n",
              "    </tr>\n",
              "  </thead>\n",
              "  <tbody>\n",
              "    <tr>\n",
              "      <th>0</th>\n",
              "      <td>a</td>\n",
              "      <td>[\"prima lettera dell'alfabeto italiano e latin...</td>\n",
              "      <td>['a']</td>\n",
              "      <td>a</td>\n",
              "      <td>/ˈa/</td>\n",
              "      <td>['sostantivo maschile e femminile']</td>\n",
              "      <td>['a contrario', 'a pari', \"sapere qualcosa a m...</td>\n",
              "      <td>https://www.dizionario-italiano.it/dizionario-...</td>\n",
              "    </tr>\n",
              "    <tr>\n",
              "      <th>1</th>\n",
              "      <td>ab</td>\n",
              "      <td>['VOCE LATINA  --  preposizione latina rimasta...</td>\n",
              "      <td>['ab']</td>\n",
              "      <td>ab</td>\n",
              "      <td>/ˈab/</td>\n",
              "      <td>['preposizione', 'simbolo', 'prefisso']</td>\n",
              "      <td>['et ab hic et ab hoc']</td>\n",
              "      <td>https://www.dizionario-italiano.it/dizionario-...</td>\n",
              "    </tr>\n",
              "    <tr>\n",
              "      <th>2</th>\n",
              "      <td>abaca</td>\n",
              "      <td>['BOTANICA  --  nome comune di una pianta trop...</td>\n",
              "      <td>['a', 'ba', 'ca', '', '']</td>\n",
              "      <td>abacà, àbaca</td>\n",
              "      <td>/abaˈka/, /ˈabaka/</td>\n",
              "      <td>['sostantivo femminile']</td>\n",
              "      <td>[]</td>\n",
              "      <td>https://www.dizionario-italiano.it/dizionario-...</td>\n",
              "    </tr>\n",
              "    <tr>\n",
              "      <th>3</th>\n",
              "      <td>abacista</td>\n",
              "      <td>[\"nel Medioevo: seguace di una delle due scuol...</td>\n",
              "      <td>['a', 'ba', 'ci', 'sta']</td>\n",
              "      <td>abacìsta</td>\n",
              "      <td>/abaˈʧista/</td>\n",
              "      <td>['sostantivo maschile e femminile']</td>\n",
              "      <td>[]</td>\n",
              "      <td>https://www.dizionario-italiano.it/dizionario-...</td>\n",
              "    </tr>\n",
              "    <tr>\n",
              "      <th>4</th>\n",
              "      <td>abaco</td>\n",
              "      <td>['variante meno comune di abbaco']</td>\n",
              "      <td>['a', 'ba', 'co']</td>\n",
              "      <td>àbaco</td>\n",
              "      <td>/ˈabako/</td>\n",
              "      <td>['sostantivo maschile']</td>\n",
              "      <td>[]</td>\n",
              "      <td>https://www.dizionario-italiano.it/dizionario-...</td>\n",
              "    </tr>\n",
              "  </tbody>\n",
              "</table>\n",
              "</div>\n",
              "      <button class=\"colab-df-convert\" onclick=\"convertToInteractive('df-0285a719-d752-426c-a072-611b439f41de')\"\n",
              "              title=\"Convert this dataframe to an interactive table.\"\n",
              "              style=\"display:none;\">\n",
              "        \n",
              "  <svg xmlns=\"http://www.w3.org/2000/svg\" height=\"24px\"viewBox=\"0 0 24 24\"\n",
              "       width=\"24px\">\n",
              "    <path d=\"M0 0h24v24H0V0z\" fill=\"none\"/>\n",
              "    <path d=\"M18.56 5.44l.94 2.06.94-2.06 2.06-.94-2.06-.94-.94-2.06-.94 2.06-2.06.94zm-11 1L8.5 8.5l.94-2.06 2.06-.94-2.06-.94L8.5 2.5l-.94 2.06-2.06.94zm10 10l.94 2.06.94-2.06 2.06-.94-2.06-.94-.94-2.06-.94 2.06-2.06.94z\"/><path d=\"M17.41 7.96l-1.37-1.37c-.4-.4-.92-.59-1.43-.59-.52 0-1.04.2-1.43.59L10.3 9.45l-7.72 7.72c-.78.78-.78 2.05 0 2.83L4 21.41c.39.39.9.59 1.41.59.51 0 1.02-.2 1.41-.59l7.78-7.78 2.81-2.81c.8-.78.8-2.07 0-2.86zM5.41 20L4 18.59l7.72-7.72 1.47 1.35L5.41 20z\"/>\n",
              "  </svg>\n",
              "      </button>\n",
              "      \n",
              "  <style>\n",
              "    .colab-df-container {\n",
              "      display:flex;\n",
              "      flex-wrap:wrap;\n",
              "      gap: 12px;\n",
              "    }\n",
              "\n",
              "    .colab-df-convert {\n",
              "      background-color: #E8F0FE;\n",
              "      border: none;\n",
              "      border-radius: 50%;\n",
              "      cursor: pointer;\n",
              "      display: none;\n",
              "      fill: #1967D2;\n",
              "      height: 32px;\n",
              "      padding: 0 0 0 0;\n",
              "      width: 32px;\n",
              "    }\n",
              "\n",
              "    .colab-df-convert:hover {\n",
              "      background-color: #E2EBFA;\n",
              "      box-shadow: 0px 1px 2px rgba(60, 64, 67, 0.3), 0px 1px 3px 1px rgba(60, 64, 67, 0.15);\n",
              "      fill: #174EA6;\n",
              "    }\n",
              "\n",
              "    [theme=dark] .colab-df-convert {\n",
              "      background-color: #3B4455;\n",
              "      fill: #D2E3FC;\n",
              "    }\n",
              "\n",
              "    [theme=dark] .colab-df-convert:hover {\n",
              "      background-color: #434B5C;\n",
              "      box-shadow: 0px 1px 3px 1px rgba(0, 0, 0, 0.15);\n",
              "      filter: drop-shadow(0px 1px 2px rgba(0, 0, 0, 0.3));\n",
              "      fill: #FFFFFF;\n",
              "    }\n",
              "  </style>\n",
              "\n",
              "      <script>\n",
              "        const buttonEl =\n",
              "          document.querySelector('#df-0285a719-d752-426c-a072-611b439f41de button.colab-df-convert');\n",
              "        buttonEl.style.display =\n",
              "          google.colab.kernel.accessAllowed ? 'block' : 'none';\n",
              "\n",
              "        async function convertToInteractive(key) {\n",
              "          const element = document.querySelector('#df-0285a719-d752-426c-a072-611b439f41de');\n",
              "          const dataTable =\n",
              "            await google.colab.kernel.invokeFunction('convertToInteractive',\n",
              "                                                     [key], {});\n",
              "          if (!dataTable) return;\n",
              "\n",
              "          const docLinkHtml = 'Like what you see? Visit the ' +\n",
              "            '<a target=\"_blank\" href=https://colab.research.google.com/notebooks/data_table.ipynb>data table notebook</a>'\n",
              "            + ' to learn more about interactive tables.';\n",
              "          element.innerHTML = '';\n",
              "          dataTable['output_type'] = 'display_data';\n",
              "          await google.colab.output.renderOutput(dataTable, element);\n",
              "          const docLink = document.createElement('div');\n",
              "          docLink.innerHTML = docLinkHtml;\n",
              "          element.appendChild(docLink);\n",
              "        }\n",
              "      </script>\n",
              "    </div>\n",
              "  </div>\n",
              "  "
            ],
            "text/plain": [
              "     parola  ...                                                url\n",
              "0         a  ...  https://www.dizionario-italiano.it/dizionario-...\n",
              "1        ab  ...  https://www.dizionario-italiano.it/dizionario-...\n",
              "2     abaca  ...  https://www.dizionario-italiano.it/dizionario-...\n",
              "3  abacista  ...  https://www.dizionario-italiano.it/dizionario-...\n",
              "4     abaco  ...  https://www.dizionario-italiano.it/dizionario-...\n",
              "\n",
              "[5 rows x 8 columns]"
            ]
          },
          "metadata": {},
          "execution_count": 6
        }
      ]
    },
    {
      "cell_type": "code",
      "source": [
        "df.shape"
      ],
      "metadata": {
        "colab": {
          "base_uri": "https://localhost:8080/"
        },
        "id": "Lp2v1IDb5NaO",
        "outputId": "5c071893-a23b-40d7-9e51-9c941fee9fef"
      },
      "execution_count": null,
      "outputs": [
        {
          "output_type": "execute_result",
          "data": {
            "text/plain": [
              "(74333, 8)"
            ]
          },
          "metadata": {},
          "execution_count": 11
        }
      ]
    },
    {
      "cell_type": "markdown",
      "source": [
        "Adesso dal sito https://www.sinonimi-contrari.it/ scarichiamo per ogni parola sinonimi e contrari. Scraping classico utlizzando requests per l'url e beautiful soup per il parsing html. La regex finale serve a trovare il testo nel html tag."
      ],
      "metadata": {
        "id": "hRayXPTIOhWA"
      }
    },
    {
      "cell_type": "code",
      "source": [
        "import requests\n",
        "from bs4 import BeautifulSoup\n",
        "import re\n",
        "\n",
        "\n",
        "URL = \"https://www.sinonimi-contrari.it/\"\n",
        "\n",
        "lista_sinonimi=[]\n",
        "lista_contrari=[]\n",
        "for parola in tqdm(df['parola']):\n",
        "  try:\n",
        "    page = requests.get(URL+parola)\n",
        "    soup = BeautifulSoup(page.content, \"html.parser\")\n",
        "    results = soup.find_all(\"div\", class_=\"search-results\") #estraggo le classi contenenti sinonimi e contrari\n",
        "    sino_anti=[]\n",
        "    for elem in results:\n",
        "      sa_elements = elem.find_all(\"span\", class_=\"terms\") #scendo più profondo nei tag\n",
        "      sino_anti.append(sa_elements)\n",
        "    try:\n",
        "      sinonimi=re.findall(r'\\.it\\/(.*?)\\/', (sino_anti[0][0]).prettify())\n",
        "    except:\n",
        "      sinonimi=[]\n",
        "    try:\n",
        "      contrari=re.findall(r'\\.it\\/(.*?)\\/', (sino_anti[1][0].prettify()))\n",
        "    except:\n",
        "      contrari=[]\n",
        "    lista_sinonimi.append(sinonimi)\n",
        "    lista_contrari.append(contrari)\n",
        "  except:\n",
        "    lista_sinonimi.append([])\n",
        "    lista_contrari.append([])\n",
        "\n",
        "print(len(lista_sinonimi),len(lista_contrari))"
      ],
      "metadata": {
        "colab": {
          "base_uri": "https://localhost:8080/"
        },
        "id": "LkzhMZvxXIB2",
        "outputId": "8e16e7de-cf8a-4aac-90f8-f484563a039c"
      },
      "execution_count": null,
      "outputs": [
        {
          "output_type": "stream",
          "name": "stderr",
          "text": [
            " 74%|███████▍  | 55265/74333 [12:00:46<5:13:39,  1.01it/s]"
          ]
        }
      ]
    },
    {
      "cell_type": "code",
      "source": [
        "df['sinonimi']=lista_sinonimi\n",
        "df['contrari']=lista_contrari"
      ],
      "metadata": {
        "id": "wLxUFGO2pvl9"
      },
      "execution_count": null,
      "outputs": []
    },
    {
      "cell_type": "code",
      "source": [
        "import pandas as pd\n",
        "from google.colab import files\n",
        "\n",
        "df.to_csv( \"dizionario.csv\", index=False, encoding='utf-8-sig')\n",
        "\n",
        "files.download('dizionario.csv')"
      ],
      "metadata": {
        "id": "xxWg7SLh19Xz"
      },
      "execution_count": null,
      "outputs": []
    },
    {
      "cell_type": "code",
      "source": [
        "import requests\n",
        "from bs4 import BeautifulSoup\n",
        "import re\n",
        "\n",
        "\n",
        "URL = \"https://www.sinonimi-contrari.it/affetto\"\n",
        "page = requests.get(URL)\n",
        "#print(page.text)\n",
        "\n",
        "soup = BeautifulSoup(page.content, \"html.parser\")\n",
        "#results = soup.find(\"div\", class_=\"search-results\")\n",
        "results = soup.find_all(\"div\", class_=\"search-results\") #estraggo le classi contenenti sinonimi e contrari\n",
        "sino_anti=[]\n",
        "for elem in results:\n",
        "  sa_elements = elem.find_all(\"span\", class_=\"terms\") #scendo più profondo nei tag\n",
        "  sino_anti.append(sa_elements)\n",
        "\n",
        "\n",
        "print('affetto sinonimi: ',re.findall(r'\\.it\\/(.*?)\\/', (sino_anti[0][0]).prettify()))\n",
        "print('affetto contrari: ',re.findall(r'\\.it\\/(.*?)\\/', (sino_anti[1][0].prettify())))\n",
        "\n",
        "\n",
        "#for elem in sino_anti:\n",
        "    #sino_html=elem[0].prettify()\n",
        "    #sinonimi=re.findall(r'\\.it\\/(.*?)\\/', sino_html)\n",
        "    #cont_html=elem[1].prettify()\n",
        "    #contrari=re.findall(r'\\.it\\/(.*?)\\/', contrari_html)\n",
        "\n",
        "#print('sinoonimi di ',sinonimi)\n",
        "#print('contrari di ',contrari)\n",
        "#print(job_elements.prettify())\n",
        "\n",
        "\n"
      ],
      "metadata": {
        "colab": {
          "base_uri": "https://localhost:8080/"
        },
        "id": "sjRpWTGb5QSM",
        "outputId": "a77a1e38-8ed5-4c36-d5ea-fdf21174adac"
      },
      "execution_count": null,
      "outputs": [
        {
          "output_type": "stream",
          "name": "stdout",
          "text": [
            "affetto sinonimi:  ['amore', 'tenerezza', 'benevolenza', 'attaccamento', 'affezione', 'ammalato', 'sofferente', 'amorevolezza']\n",
            "affetto contrari:  ['indifferenza', 'freddezza', 'avversione', 'immune', 'esente', 'disamore', 'disaffezione']\n"
          ]
        }
      ]
    }
  ],
  "metadata": {
    "colab": {
      "name": "ETL_TOT.ipynb",
      "provenance": [],
      "collapsed_sections": [],
      "mount_file_id": "17GiMrj8XjnZ0Hjui6uEMSa27prst9FEb",
      "authorship_tag": "ABX9TyNkwJPOTR14Z+I+/Kg+oU6a",
      "include_colab_link": true
    },
    "kernelspec": {
      "display_name": "Python 3",
      "name": "python3"
    },
    "language_info": {
      "name": "python"
    }
  },
  "nbformat": 4,
  "nbformat_minor": 0
}